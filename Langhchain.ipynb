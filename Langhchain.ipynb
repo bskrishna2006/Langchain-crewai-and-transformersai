{
  "nbformat": 4,
  "nbformat_minor": 0,
  "metadata": {
    "colab": {
      "provenance": []
    },
    "kernelspec": {
      "name": "python3",
      "display_name": "Python 3"
    },
    "language_info": {
      "name": "python"
    }
  },
  "cells": [
    {
      "cell_type": "code",
      "source": [
        "print(\"Hello world\")"
      ],
      "metadata": {
        "colab": {
          "base_uri": "https://localhost:8080/"
        },
        "id": "zN7jNswTPbGY",
        "outputId": "80cf4c8d-5189-4c8e-fc99-fdec831681a9"
      },
      "execution_count": null,
      "outputs": [
        {
          "output_type": "stream",
          "name": "stdout",
          "text": [
            "Hello world\n"
          ]
        }
      ]
    },
    {
      "cell_type": "code",
      "source": [
        "pip install langchain_groq"
      ],
      "metadata": {
        "colab": {
          "base_uri": "https://localhost:8080/"
        },
        "id": "fnlJeBt3Pqwu",
        "outputId": "7b99f821-b70d-45af-f0d0-7a240adb6844"
      },
      "execution_count": null,
      "outputs": [
        {
          "output_type": "stream",
          "name": "stdout",
          "text": [
            "Collecting langchain_groq\n",
            "  Downloading langchain_groq-0.3.5-py3-none-any.whl.metadata (2.6 kB)\n",
            "Requirement already satisfied: langchain-core<1.0.0,>=0.3.67 in /usr/local/lib/python3.11/dist-packages (from langchain_groq) (0.3.67)\n",
            "Collecting groq<1,>=0.29.0 (from langchain_groq)\n",
            "  Downloading groq-0.29.0-py3-none-any.whl.metadata (16 kB)\n",
            "Requirement already satisfied: anyio<5,>=3.5.0 in /usr/local/lib/python3.11/dist-packages (from groq<1,>=0.29.0->langchain_groq) (4.9.0)\n",
            "Requirement already satisfied: distro<2,>=1.7.0 in /usr/local/lib/python3.11/dist-packages (from groq<1,>=0.29.0->langchain_groq) (1.9.0)\n",
            "Requirement already satisfied: httpx<1,>=0.23.0 in /usr/local/lib/python3.11/dist-packages (from groq<1,>=0.29.0->langchain_groq) (0.28.1)\n",
            "Requirement already satisfied: pydantic<3,>=1.9.0 in /usr/local/lib/python3.11/dist-packages (from groq<1,>=0.29.0->langchain_groq) (2.11.7)\n",
            "Requirement already satisfied: sniffio in /usr/local/lib/python3.11/dist-packages (from groq<1,>=0.29.0->langchain_groq) (1.3.1)\n",
            "Requirement already satisfied: typing-extensions<5,>=4.10 in /usr/local/lib/python3.11/dist-packages (from groq<1,>=0.29.0->langchain_groq) (4.14.0)\n",
            "Requirement already satisfied: langsmith>=0.3.45 in /usr/local/lib/python3.11/dist-packages (from langchain-core<1.0.0,>=0.3.67->langchain_groq) (0.4.4)\n",
            "Requirement already satisfied: tenacity!=8.4.0,<10.0.0,>=8.1.0 in /usr/local/lib/python3.11/dist-packages (from langchain-core<1.0.0,>=0.3.67->langchain_groq) (8.5.0)\n",
            "Requirement already satisfied: jsonpatch<2.0,>=1.33 in /usr/local/lib/python3.11/dist-packages (from langchain-core<1.0.0,>=0.3.67->langchain_groq) (1.33)\n",
            "Requirement already satisfied: PyYAML>=5.3 in /usr/local/lib/python3.11/dist-packages (from langchain-core<1.0.0,>=0.3.67->langchain_groq) (6.0.2)\n",
            "Requirement already satisfied: packaging<25,>=23.2 in /usr/local/lib/python3.11/dist-packages (from langchain-core<1.0.0,>=0.3.67->langchain_groq) (24.2)\n",
            "Requirement already satisfied: idna>=2.8 in /usr/local/lib/python3.11/dist-packages (from anyio<5,>=3.5.0->groq<1,>=0.29.0->langchain_groq) (3.10)\n",
            "Requirement already satisfied: certifi in /usr/local/lib/python3.11/dist-packages (from httpx<1,>=0.23.0->groq<1,>=0.29.0->langchain_groq) (2025.6.15)\n",
            "Requirement already satisfied: httpcore==1.* in /usr/local/lib/python3.11/dist-packages (from httpx<1,>=0.23.0->groq<1,>=0.29.0->langchain_groq) (1.0.9)\n",
            "Requirement already satisfied: h11>=0.16 in /usr/local/lib/python3.11/dist-packages (from httpcore==1.*->httpx<1,>=0.23.0->groq<1,>=0.29.0->langchain_groq) (0.16.0)\n",
            "Requirement already satisfied: jsonpointer>=1.9 in /usr/local/lib/python3.11/dist-packages (from jsonpatch<2.0,>=1.33->langchain-core<1.0.0,>=0.3.67->langchain_groq) (3.0.0)\n",
            "Requirement already satisfied: orjson<4.0.0,>=3.9.14 in /usr/local/lib/python3.11/dist-packages (from langsmith>=0.3.45->langchain-core<1.0.0,>=0.3.67->langchain_groq) (3.10.18)\n",
            "Requirement already satisfied: requests<3,>=2 in /usr/local/lib/python3.11/dist-packages (from langsmith>=0.3.45->langchain-core<1.0.0,>=0.3.67->langchain_groq) (2.32.3)\n",
            "Requirement already satisfied: requests-toolbelt<2.0.0,>=1.0.0 in /usr/local/lib/python3.11/dist-packages (from langsmith>=0.3.45->langchain-core<1.0.0,>=0.3.67->langchain_groq) (1.0.0)\n",
            "Requirement already satisfied: zstandard<0.24.0,>=0.23.0 in /usr/local/lib/python3.11/dist-packages (from langsmith>=0.3.45->langchain-core<1.0.0,>=0.3.67->langchain_groq) (0.23.0)\n",
            "Requirement already satisfied: annotated-types>=0.6.0 in /usr/local/lib/python3.11/dist-packages (from pydantic<3,>=1.9.0->groq<1,>=0.29.0->langchain_groq) (0.7.0)\n",
            "Requirement already satisfied: pydantic-core==2.33.2 in /usr/local/lib/python3.11/dist-packages (from pydantic<3,>=1.9.0->groq<1,>=0.29.0->langchain_groq) (2.33.2)\n",
            "Requirement already satisfied: typing-inspection>=0.4.0 in /usr/local/lib/python3.11/dist-packages (from pydantic<3,>=1.9.0->groq<1,>=0.29.0->langchain_groq) (0.4.1)\n",
            "Requirement already satisfied: charset-normalizer<4,>=2 in /usr/local/lib/python3.11/dist-packages (from requests<3,>=2->langsmith>=0.3.45->langchain-core<1.0.0,>=0.3.67->langchain_groq) (3.4.2)\n",
            "Requirement already satisfied: urllib3<3,>=1.21.1 in /usr/local/lib/python3.11/dist-packages (from requests<3,>=2->langsmith>=0.3.45->langchain-core<1.0.0,>=0.3.67->langchain_groq) (2.4.0)\n",
            "Downloading langchain_groq-0.3.5-py3-none-any.whl (15 kB)\n",
            "Downloading groq-0.29.0-py3-none-any.whl (130 kB)\n",
            "\u001b[2K   \u001b[90m━━━━━━━━━━━━━━━━━━━━━━━━━━━━━━━━━━━━━━━━\u001b[0m \u001b[32m130.8/130.8 kB\u001b[0m \u001b[31m3.4 MB/s\u001b[0m eta \u001b[36m0:00:00\u001b[0m\n",
            "\u001b[?25hInstalling collected packages: groq, langchain_groq\n",
            "Successfully installed groq-0.29.0 langchain_groq-0.3.5\n"
          ]
        }
      ]
    },
    {
      "cell_type": "code",
      "source": [
        "from langchain_groq import ChatGroq\n",
        "from langchain.chains import LLMChain, SimpleSequentialChain\n",
        "from langchain.prompts import PromptTemplate\n",
        "import os\n",
        "os.environ[\"GROQ_API_KEY\"] = \"x\"\n"
      ],
      "metadata": {
        "id": "KuvawMU3Pby6"
      },
      "execution_count": null,
      "outputs": []
    },
    {
      "cell_type": "code",
      "source": [
        "prompt_template1 = PromptTemplate(\n",
        "    input_variables=['Location'],\n",
        "    template = \"Suggest me some Hotel namess based on the location {location}\"\n",
        ")\n",
        "prompt_template2 = PromptTemplate(\n",
        "    input_variables=['Location'],\n",
        "    template = \"Suggest me recipies  based on the location {location} for the new restraunt\"\n",
        ")\n",
        "LLM = ChatGroq(temperature=0.75, model_name = 'gemma2-9b-it')\n",
        "\n",
        "hotelNameChain = LLMChain(llm = LLM, prompt = prompt_template1)\n",
        "recipe = LLMChain(llm = LLM, prompt = prompt_template2)\n",
        "chains = SimpleSequentialChain(chains=[hotelNameChain,recipe])\n"
      ],
      "metadata": {
        "id": "2u74R8DwSalo"
      },
      "execution_count": null,
      "outputs": []
    },
    {
      "cell_type": "markdown",
      "source": [
        "Simple Sequential chain which display one output\n"
      ],
      "metadata": {
        "id": "tGVWfD7uqSa7"
      }
    },
    {
      "cell_type": "code",
      "source": [
        "chains.run(\"Indian\")"
      ],
      "metadata": {
        "colab": {
          "base_uri": "https://localhost:8080/",
          "height": 194
        },
        "id": "AyWprm3kUCmB",
        "outputId": "2a1d5c95-5fbb-44dd-e9d8-1d5b1654e61b"
      },
      "execution_count": null,
      "outputs": [
        {
          "output_type": "stream",
          "name": "stderr",
          "text": [
            "/tmp/ipython-input-7-869192928.py:1: LangChainDeprecationWarning: The method `Chain.run` was deprecated in langchain 0.1.0 and will be removed in 1.0. Use :meth:`~invoke` instead.\n",
            "  chains.run(\"Indian\")\n"
          ]
        },
        {
          "output_type": "execute_result",
          "data": {
            "text/plain": [
              "\"Here are some recipe suggestions categorized by region and hotel name, keeping in mind the unique vibes you've created:\\n\\n**Beach/Coastal:**\\n\\n* **Goa:**\\n    * **The Cashew Grove:**  *Cashew-Crusted Fish with Tamarind Glaze*, *Goan Sausage and Potato Curry*, *Bebinca* (traditional Goan layered dessert)\\n    * **Arabian Shores Retreat:** *Kingfish Carpaccio with Coconut-Lime Dressing*, *Seafood Caldeirada*, *Mango Sticky Rice with Coconut Cream*\\n    * **Sunstone Villas:** *Prawn Balchao*, *Vindaloo* (spicy pork or chicken curry), *Sorpotel* (a Goan pork and liver stew)\\n* **Kerala:** \\n    * **Coconut Lagoon Haven:** *Meen Molee* (fish curry in coconut milk), *Keralan Fish Fry*, *Appam with Stew*\\n    * **Spice Coast Inn:** *Spicy Crab Meen Kari*, *Kadai Chicken with Malabar Paratha*, *Puttu with Kadala Curry*\\n    * **Backwater Bliss:** *Neer Dosa* (thin rice crepe), *Karimeen Pollichathu* (fish marinated in spices and wrapped in banana leaf), *Banana Fritters*\\n* **Andaman & Nicobar:** \\n    * **Pearl Lagoon Resort:** *Catch of the Day grilled with coconut sambal*, *Seaweed Salad with lime and chili*, *Pineapple and Coconut Tart*\\n    * **Emerald Coast Hideaway:** *Coconut Panna Cotta*, *Grilled Lobster with Mango Salsa*, *Coconut Chutney with Papadum*\\n    * **Coral Reef Sanctuary:** *Smoked Fish with Tamarind and Chili Paste*, *Shrimp Curry with Coconut Milk and Lemongrass*, *Mango and Coconut Ice Cream*\\n\\n**Hill Stations:**\\n\\n* **Himalayas:**\\n    * **Himalayan Crest Lodge:** *Momos* (Tibetan dumplings), *Thukpa* (Tibetan noodle soup), *Aloo Gobi* (potato and cauliflower curry)\\n    * **Snowpeak Manor:** *Chicken and Vegetable Stew with Barley*, *Idli and Sambar*, *Gajar Ka Halwa* (carrot pudding)\\n    * **Valley View Retreat:** *Butter Chicken*, *Dal Makhani*, *Malai Kofta* (vegetable balls in a creamy sauce)\\n* **Munnar:**\\n    * **Tea Garden Palace:** *Tea Infused Cake*, *Malabar Paratha with Egg Curry*, *Payasam* (rice pudding with jaggery)\\n    * **Misty Hills Estate:** *Spicy Chicken with Black Pepper Sauce*, *Chopped Mixed Vegetables with Coconut Paste*, *Tea Leaf Cookies*\\n    * **Eravikulam Haven:** *Appam with Vegetable Stew*, *Puttu with Coconut Milk*, *Banana Chips*\\n* **Darjeeling:** \\n    * **Kanchenjunga Viewpoint:** *Momos*, *Thukpa*, *Chicken Chilli*   \\n    * **Darjeeling Heights:** *Darjeeling Tea and Biscuit*, *Tibetan Bread with Butter*, *Momo Salad*\\n    * **Toy Train Inn:** *Aloo Chop* (potato patties), *Chicken Tikka Masala*, *Gulab Jamun* (sweet dumplings)\\n\\n**Historical/Cultural:**\\n\\n* **Rajasthan:** \\n    * **Amber Fort Palace:** *Laal Maas* (red mutton curry), *Dal Baati Churma*, *Gatte ki Sabzi* \\n    * **The Jewel of Jaipur:** *Aloo Tikki*, *Murg Makhani*, * Ghevar* (Rajasthani sweet)\\n    * **Rajputana Retreat:** *Rajasthani Thali* (platter of various dishes), *Pyaaj Kachori*, *Mirchi Vada*\\n* **Agra:**\\n    * **Taj Mahal Vista:** *Mughlai Biryani*, *Chicken Korma*, *Shahi Tukda* (sweet bread pudding)\\n    * **Mughal Garden Inn:** *Kebabs* (various grilled meat and vegetable skewers), *Tandoori Chicken*, *Gulab Jamun*\\n    * **Agra Fort Legacy:** *Nihari* (slow-cooked mutton stew), *Seekh Kebab*, *Jalebi* (sweet fried batter)\\n* **Varanasi:**\\n    * **Ganges River Retreat:** *Kachori Sabzi*, *Aloo Puri*, *Ras Malai* (sweet cheese balls in milk sauce)\\n    * **Kashi Heritage:** *Chole Bhature*, *Thali*, *Malpua* (flat pancakes dipped in syrup)\\n    * **Assi Ghat Sanctuary:** *Samosas*, *Puri Bhaji*, *Lassi* (yogurt drink)\\n\\n**Modern/City:**\\n\\n* **Mumbai:**\\n    * **Sea Link Towers:** *Vada Pav*, *Misal Pav*, *Mumbai Street Food Platter*\\n    * **Bandra Breeze:** *Biryani*, *Pav Bhaji*, *Kulfi* (Indian ice cream)\\n    * **Gateway City Hotel:** *Dosa*, *Idli Sambar*, *Uttapam*\\n* **Delhi:**\\n    * **Red Fort View:** *Butter Chicken*, *Chana Masala*, *Naan*\\n    * **Connaught Place Inn:** *Chole Bhature*, *Aloo Tikki*, *Shahi Paneer* (creamy paneer curry)\\n    * **India Gate Residence:** *Dal Makhani*, *Paneer Tikka Masala*, *Biryani*\\n* **Bangalore:**\\n    * **Silicon Valley Suites:** *Dosa Variety*, *Idli with Coconut Chutney*, *Filter Coffee*\\n    * **Garden City Plaza:** *Bisi Bele Bath* (vegetable rice dish), *Rava Idli*, *Mysore Pak* (sweet fudge)\\n    * **Cubbon Park Retreat:** *Pani Puri*, *Chaat*, *Samosa Chaat*\\n\\n\\n\\nRemember to adjust these recipes to reflect the specific ambiance and target audience of each hotel.\\n\\n\\n\""
            ],
            "application/vnd.google.colaboratory.intrinsic+json": {
              "type": "string"
            }
          },
          "metadata": {},
          "execution_count": 7
        }
      ]
    },
    {
      "cell_type": "markdown",
      "source": [
        " Sequential chain which can display more than one output\n"
      ],
      "metadata": {
        "id": "w53DBSHgqeyj"
      }
    },
    {
      "cell_type": "code",
      "source": [
        "from langchain.prompts import PromptTemplate\n",
        "from langchain.chains import LLMChain, SequentialChain\n",
        "from langchain_groq import ChatGroq\n",
        "\n",
        "prompt_template1 = PromptTemplate(\n",
        "    input_variables=['location'],\n",
        "    template=\"Suggest me some hotel names based on the location {location}.\"\n",
        ")\n",
        "\n",
        "prompt_template2 = PromptTemplate(\n",
        "    input_variables=['location'],\n",
        "    template=\"Suggest me recipes based on the location {location} for the new restaurant.\"\n",
        ")\n",
        "\n",
        "LLM = ChatGroq(temperature=0.75, model_name='gemma2-9b-it')\n",
        "\n",
        "hotelNameChain = LLMChain(llm=LLM, prompt=prompt_template1, output_key='name')\n",
        "recipeChain = LLMChain(llm=LLM, prompt=prompt_template2, output_key='recipes')\n",
        "chain = SequentialChain(\n",
        "    chains=[hotelNameChain, recipeChain],\n",
        "    input_variables=['location'],\n",
        "    output_variables=['name', 'recipes'],\n",
        "    verbose=True\n",
        ")\n",
        "\n",
        "result = chain({'location': 'Chinese'})\n",
        "print(result)\n"
      ],
      "metadata": {
        "colab": {
          "base_uri": "https://localhost:8080/"
        },
        "id": "EcceZtj2p8jR",
        "outputId": "20421bfa-53ff-4c25-d003-651af5867493"
      },
      "execution_count": null,
      "outputs": [
        {
          "output_type": "stream",
          "name": "stderr",
          "text": [
            "/tmp/ipython-input-14-3361238725.py:26: LangChainDeprecationWarning: The method `Chain.__call__` was deprecated in langchain 0.1.0 and will be removed in 1.0. Use :meth:`~invoke` instead.\n",
            "  result = chain({'location': 'Chinese'})\n"
          ]
        },
        {
          "output_type": "stream",
          "name": "stdout",
          "text": [
            "\n",
            "\n",
            "\u001b[1m> Entering new SequentialChain chain...\u001b[0m\n",
            "\n",
            "\u001b[1m> Finished chain.\u001b[0m\n",
            "{'location': 'Chinese', 'name': \"Here are some hotel names based on Chinese locations, incorporating different styles and themes:\\n\\n**Elegant & Traditional:**\\n\\n* Jade Dragon Palace (inspired by dragons, a symbol of power & good luck in Chinese culture)\\n* The Forbidden City Retreat\\n* The Great Wall Sanctuary\\n* Silk Road Inn\\n* Willow Breeze Pavilion\\n* Kunlun Mountain Manor\\n\\n**Modern & Chic:**\\n\\n* Shanghai Skyline\\n* Beijing Bloom\\n* The Xi'an Oasis\\n* Canton Pearl\\n* Hangzhou Horizon\\n* The Yangtze Vista\\n\\n**Unique & Quirky:**\\n\\n* Panda Paradise\\n* The Tea House Haven\\n* The Lantern Lounge\\n* The Dumpling Den\\n* The Great Wall Wanderer\\n\\n**Location Specific:**\\n\\n* (City name) Jade Garden Hotel\\n* (Mountain name) Mountain View Lodge\\n* (River name) Waterfront Retreat\\n* (Historical site name) Heritage Inn\\n\\n**Tips for Choosing a Good Name:**\\n\\n* **Consider your target audience:**  Who are you trying to attract? Luxurious travelers, budget-conscious backpackers, families, etc.?\\n* **Reflect the hotel's style and amenities:**  Is it modern, traditional, boutique, or family-friendly?\\n* **Keep it short and memorable:**  Easy to pronounce and remember.\\n* **Check for availability:** Make sure the name isn't already taken.\\n\\nRemember to also consider the **cultural nuances** of Chinese language and tradition when choosing a name. \\n\\n\\n\", 'recipes': 'Please give me more information about the location! To suggest relevant Chinese recipes, I need to know:\\n\\n* **What region of China is the restaurant inspired by?** (e.g., Sichuan, Cantonese, Hunan, Shanghainese) Different regions have distinct flavors and specialties.\\n* **What type of restaurant is it?** (e.g., casual, fine dining, street food, dim sum) \\n* **What is the target audience?** (e.g., families, young professionals, adventurous eaters)\\n* **Are there any dietary restrictions to consider?** (e.g., vegetarian, vegan, gluten-free)\\n* **What is the overall vibe or concept of the restaurant?** (e.g., modern, traditional, fusion)\\n\\n\\nThe more details you provide, the better I can tailor my recipe suggestions to your new restaurant! \\n\\n'}\n"
          ]
        }
      ]
    }
  ]
}